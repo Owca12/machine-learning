{
 "cells": [
  {
   "cell_type": "code",
   "execution_count": 1624,
   "metadata": {},
   "outputs": [
    {
     "data": {
      "image/png": "[encoded data removed]",
      "text/plain": [
       "<Figure size 432x288 with 1 Axes>"
      ]
     },
     "metadata": {},
     "output_type": "display_data"
    }
   ],
   "source": [
    "import matplotlib.pyplot as plt\n",
    "import numpy as np\n",
    "from numpy.linalg import inv\n",
    "import pandas as pd\n",
    "\n",
    "X=np.array([(4,1940),(9,2960),(9,4630),(78,1528),(90,2040),(50,3700),(467,14815),(509,15200),(290,15700),(215,6045)])\n",
    "\n",
    "x1 = np.array(X[:,0])\n",
    "x2 = np.array(X[:,1])\n",
    "\n",
    "fig, ax = plt.subplots()\n",
    "ax.scatter(x1,x2)\n",
    "ax.set(xlabel='Seats count', ylabel='Distance range (km)',\n",
    "       title='Aircrafts')\n",
    "ax.grid()\n",
    "plt.show()"
   ]
  },
  {
   "cell_type": "code",
   "execution_count": 1625,
   "metadata": {},
   "outputs": [
    {
     "name": "stdout",
     "output_type": "stream",
     "text": [
      "[[0.00785855 0.12356688]\n",
      " [0.01768173 0.18853503]\n",
      " [0.01768173 0.29490446]\n",
      " [0.15324165 0.09732484]\n",
      " [0.17681729 0.12993631]\n",
      " [0.09823183 0.23566879]\n",
      " [0.91748527 0.94363057]\n",
      " [1.         0.96815287]\n",
      " [0.5697446  1.        ]\n",
      " [0.42239686 0.38503185]]\n"
     ]
    }
   ],
   "source": [
    "train_data = np.array(X)\n",
    "max_values = train_data.max(0)\n",
    "\n",
    "X_norm = np.divide(train_data,max_values)\n",
    "\n",
    "x1 = np.array(X_norm[:,0])\n",
    "x2 = np.array(X_norm[:,1])\n",
    "\n",
    "print(X_norm)\n",
    "\n",
    "data_set=X_norm\n",
    "groups = 2\n",
    "space=[[0,1],[0,1]]\n",
    "\n",
    "error_margin = 0.1\n",
    "m = 2.0\n",
    "\n",
    "assignation=np.zeros((len(X),groups))\n",
    "assignation_entry = assignation"
   ]
  },
  {
   "cell_type": "code",
   "execution_count": 1626,
   "metadata": {},
   "outputs": [
    {
     "name": "stdout",
     "output_type": "stream",
     "text": [
      "[(0.8434370598709583, 0.5671253262594108), (0.4210361237641699, 0.6128883614683087)]\n"
     ]
    }
   ],
   "source": [
    "import random\n",
    "\n",
    "centers = []\n",
    "etas = []\n",
    "\n",
    "def select_centers():\n",
    "    global centers\n",
    "    global groups\n",
    "    global space\n",
    "    iter=0\n",
    "    while iter<groups:\n",
    "        centers.append((random.uniform(space[0][0],space[0][1]), \n",
    "                        random.uniform(space[1][0],space[1][1])))\n",
    "        iter=iter+1\n",
    "        \n",
    "select_centers()\n",
    "print(centers)"
   ]
  },
  {
   "cell_type": "markdown",
   "metadata": {},
   "source": [
    "First of all we need to initialize assignation matrix. Fuzzy k-means will be the most efficient for that."
   ]
  },
  {
   "cell_type": "code",
   "execution_count": 1627,
   "metadata": {},
   "outputs": [],
   "source": [
    "def calculate_distance(x,v):\n",
    "    return np.sqrt((x[0]-v[0])**2+(x[1]-v[1])**2)"
   ]
  },
  {
   "cell_type": "code",
   "execution_count": 1628,
   "metadata": {},
   "outputs": [],
   "source": [
    "def calculate_init_u(x, i):\n",
    "    global centers\n",
    "    if i == 0:\n",
    "        sum=1.0+(calculate_distance(x, centers[0])/calculate_distance(x, centers[1]))**2\n",
    "    else:\n",
    "        sum=1.0+(calculate_distance(x, centers[1])/calculate_distance(x, centers[0]))**2\n",
    "    return sum**-1"
   ]
  },
  {
   "cell_type": "code",
   "execution_count": 1629,
   "metadata": {},
   "outputs": [],
   "source": [
    "def calculate_new_centers(u):\n",
    "    global centers\n",
    "    global groups\n",
    "    new_centers = []\n",
    "    for c in range(groups):\n",
    "        u_x_vector = np.zeros(2)\n",
    "        u_scalar=0.0\n",
    "        for i in range(len(data_set)):\n",
    "            u_scalar = u_scalar + (u[i][c]**m)\n",
    "            u_x_vector = np.add(u_x_vector,np.multiply(u[i][c]**m,data_set[i]))\n",
    "        new_centers.append(np.divide(u_x_vector, u_scalar))\n",
    "    centers=new_centers"
   ]
  },
  {
   "cell_type": "markdown",
   "metadata": {},
   "source": [
    "Just one loop without any check for initialization."
   ]
  },
  {
   "cell_type": "code",
   "execution_count": 1630,
   "metadata": {},
   "outputs": [],
   "source": [
    "def init_u_matrix():\n",
    "    global assignation\n",
    "    global assignation_entry\n",
    "    global groups\n",
    "    new_assignation = []\n",
    "    for i in range(len(data_set)):\n",
    "        new_assignation_vector = []\n",
    "        for k in range(groups):\n",
    "            new_assignation_vector.append(calculate_init_u(data_set[i], k))\n",
    "        new_assignation.append(new_assignation_vector)\n",
    "    calculate_new_centers(new_assignation)\n",
    "    assignation = new_assignation\n",
    "    assignation_entry = assignation"
   ]
  },
  {
   "cell_type": "markdown",
   "metadata": {},
   "source": [
    "PCM Implementation"
   ]
  },
  {
   "cell_type": "markdown",
   "metadata": {},
   "source": [
    "Mahalanobis Distance"
   ]
  },
  {
   "cell_type": "code",
   "execution_count": 1631,
   "metadata": {},
   "outputs": [],
   "source": [
    "global covariance_matrix\n",
    "covariance_matrix = np.cov(x1,x2)\n",
    "invcovmx = inv(covariance_matrix)\n",
    "def calculate_mahalanobis_distance(x,v, inv_cov_matrix):\n",
    "    vec=[a - b for a, b in zip(x, v)]\n",
    "    vec_array=np.array(vec)\n",
    "    return math.sqrt( (vec_array.T.dot(inv_cov_matrix)).dot( vec_array ) )\n",
    "\n",
    "def calculate_mahalanobis_distance_sqr(x,v, inv_cov_matrix):\n",
    "    vec=[a - b for a, b in zip(x, v)]\n",
    "    vec_array=np.array(vec)\n",
    "    return (vec_array.T.dot(inv_cov_matrix)).dot( vec_array )"
   ]
  },
  {
   "cell_type": "markdown",
   "metadata": {},
   "source": [
    "PDM is a measure for assignation entries and will be used to calculate future assignations"
   ]
  },
  {
   "cell_type": "code",
   "execution_count": 1632,
   "metadata": {},
   "outputs": [],
   "source": [
    "def calculate_pdm(x,u):\n",
    "    global centers\n",
    "    global etas\n",
    "    new_etas = []\n",
    "    for c in range(groups):\n",
    "        u_x_scalar = 0.0\n",
    "        u_scalar = 0.0\n",
    "        for i in range(len(data_set)):\n",
    "            u_scalar = u_scalar + (u[i][c]**m)\n",
    "            u_x_scalar= u_x_scalar + (u[i][c]**m * calculate_mahalanobis_distance_sqr(x, centers[c], invcovmx))\n",
    "        new_etas.append(np.divide(u_x_scalar,u_scalar))\n",
    "    return new_etas"
   ]
  },
  {
   "cell_type": "markdown",
   "metadata": {},
   "source": [
    "For more complex solutions and clustering tasks calculating U matrix should conists of arrays iterations. For convieniance I have made similar method like simple fuzzy and k-means from classes."
   ]
  },
  {
   "cell_type": "code",
   "execution_count": 1633,
   "metadata": {},
   "outputs": [],
   "source": [
    "def calculate_u(x,i):\n",
    "    global centers\n",
    "    global assignation_entry\n",
    "    local_u = 0\n",
    "    if i == 0:\n",
    "        local_u = 1.0 + (calculate_mahalanobis_distance(x, centers[0], invcovmx)/calculate_pdm(x, assignation_entry)[1])**2\n",
    "    else:\n",
    "        local_u = 1.0 + (calculate_mahalanobis_distance(x, centers[1], invcovmx)/calculate_pdm(x, assignation_entry)[0])**2\n",
    "    return local_u**-1"
   ]
  },
  {
   "cell_type": "code",
   "execution_count": 1634,
   "metadata": {},
   "outputs": [],
   "source": [
    "def calculate_differences(new_assignation):\n",
    "    global assignation    \n",
    "    return np.sum(np.abs(np.subtract(assignation,new_assignation)))"
   ]
  },
  {
   "cell_type": "markdown",
   "metadata": {},
   "source": [
    "Testing PCM"
   ]
  },
  {
   "cell_type": "code",
   "execution_count": 1635,
   "metadata": {},
   "outputs": [],
   "source": [
    "def cluster():\n",
    "    global assignation    \n",
    "    global error_margin    \n",
    "    global groups\n",
    "    difference_limit_not_achieved=True\n",
    "    iter=0\n",
    "    init_u_matrix()\n",
    "    while difference_limit_not_achieved:\n",
    "        new_assignation=[]\n",
    "        for i in range(len(data_set)):\n",
    "            new_assignation_vector=[]\n",
    "            for k in range(groups):\n",
    "                new_assignation_vector.append(calculate_u(data_set[i], k))\n",
    "            new_assignation.append(new_assignation_vector)\n",
    "        calculate_new_centers(new_assignation)\n",
    "\n",
    "        if iter>0:\n",
    "            if calculate_differences(new_assignation) < error_margin:\n",
    "                difference_limit_not_achieved=False\n",
    "        assignation=new_assignation\n",
    "        iter=iter+1"
   ]
  },
  {
   "cell_type": "code",
   "execution_count": 1636,
   "metadata": {},
   "outputs": [
    {
     "name": "stdout",
     "output_type": "stream",
     "text": [
      "[[0.00456943797508024, 0.9931092940496113], [0.01116748691799031, 0.988126552081162], [0.2037080447099236, 0.95149247214412], [0.19605874132170645, 0.9575369941663862], [0.16944899459314447, 0.9559567530550296], [0.00043159179709103445, 0.9968249381362547], [0.9789685283891536, 0.03317348993751163], [0.9656861325670066, 0.16121512888059583], [0.9125487161057081, 0.6937006262359471], [0.3590890858158647, 0.8300695132448872]]\n"
     ]
    },
    {
     "data": {
      "image/png": "[encoded data removed]",
      "text/plain": [
       "<Figure size 432x288 with 1 Axes>"
      ]
     },
     "metadata": {},
     "output_type": "display_data"
    },
    {
     "data": {
      "image/png": "[encoded data removed]",
      "text/plain": [
       "<Figure size 432x288 with 1 Axes>"
      ]
     },
     "metadata": {},
     "output_type": "display_data"
    }
   ],
   "source": [
    "cluster()\n",
    "print(assignation)\n",
    "red = X_norm[np.where(np.array(assignation)[:,0] > 0.5)]\n",
    "blue = X_norm[np.where(np.array(assignation)[:,1] > 0.5)]\n",
    "\n",
    "fig, ax = plt.subplots()\n",
    "\n",
    "ax.scatter(blue[:,0],blue[:,1],c='blue')\n",
    "ax.scatter(red[:,0],red[:,1],c='red')\n",
    "ax.scatter(np.array(centers)[:,0],np.array(centers)[:,1],c='black')\n",
    "ax.set(xlabel='Seats count', ylabel='Distance range (km)',\n",
    "       title='Aircrafts (clusters)')\n",
    "ax.grid()\n",
    "plt.show()\n",
    "\n",
    "red = X_norm[np.where(np.array(assignation)[:,0] > np.array(assignation)[:,1])]\n",
    "blue = X_norm[np.where(np.array(assignation)[:,1] > np.array(assignation)[:,0])]\n",
    "\n",
    "fig, ax = plt.subplots()\n",
    "\n",
    "ax.scatter(blue[:,0],blue[:,1],c='blue')\n",
    "ax.scatter(red[:,0],red[:,1],c='red')\n",
    "ax.scatter(np.array(centers)[:,0],np.array(centers)[:,1],c='black')\n",
    "ax.set(xlabel='Seats count', ylabel='Distance range (km)',\n",
    "       title='Aircrafts (clusters)')\n",
    "ax.grid()\n",
    "plt.show()"
   ]
  },
  {
   "cell_type": "markdown",
   "metadata": {},
   "source": [
    "Results from PCM implementation are very comparable to Fuzzy k-means. Thus, it can be noticable that one record has not been assigned properly. According to scholar articles pure PCM is not always efficent. However combining it with Fuzzy k-means(PFCM) should improve results. Creating new assignment condition improves results on grid. "
   ]
  }
 ],
 "metadata": {
  "kernelspec": {
   "display_name": "Python 3",
   "language": "python",
   "name": "python3"
  },
  "language_info": {
   "codemirror_mode": {
    "name": "ipython",
    "version": 3
   },
   "file_extension": ".py",
   "mimetype": "text/x-python",
   "name": "python",
   "nbconvert_exporter": "python",
   "pygments_lexer": "ipython3",
   "version": "3.6.5"
  }
 },
 "nbformat": 4,
 "nbformat_minor": 2
}
